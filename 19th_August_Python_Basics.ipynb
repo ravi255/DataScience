{
 "cells": [
  {
   "cell_type": "markdown",
   "id": "983178a3-1742-4ca6-925f-41cd6e540175",
   "metadata": {
    "tags": []
   },
   "source": [
    "TOPIC: Python Basics Variable"
   ]
  },
  {
   "cell_type": "code",
   "execution_count": 27,
   "id": "28018e83-23f4-4fc5-a31d-5ca9a26e24fa",
   "metadata": {},
   "outputs": [
    {
     "name": "stdout",
     "output_type": "stream",
     "text": [
      "Before Swapping x y: 10 20\n",
      "After Swapping x y: 20 10\n"
     ]
    }
   ],
   "source": [
    "# 1) Question:\n",
    "# Declare two variables, `x` and `y`, and assign them integer values. Swap the\n",
    "# values of these variables without using any temporary variable.\n",
    "\n",
    "# Solution:\n",
    "\n",
    "x, y = 10, 20  # Initialize x with 10 and y with 20\n",
    "print(\"Before Swapping x y:\", x, y) # Print the values before swapping\n",
    "\n",
    "# Swapping the values\n",
    "x = x + y # x now holds the sum of original x and y\n",
    "y = x - y # y now holds the original value of x (because x contains the sum)\n",
    "x = x - y # x now holds the original value of y (because y contains the original x value)\n",
    "\n",
    "print(\"After Swapping x y:\", x, y) # Print the values after swapping"
   ]
  },
  {
   "cell_type": "code",
   "execution_count": 28,
   "id": "57a943a3-fc39-40b2-a6d2-85a6f68f4b9a",
   "metadata": {},
   "outputs": [
    {
     "name": "stdin",
     "output_type": "stream",
     "text": [
      "Enter the length of the rectangle: 5\n",
      "Enter the width of the rectangle: 6\n"
     ]
    },
    {
     "name": "stdout",
     "output_type": "stream",
     "text": [
      "The area of the rectangle is: 30.0\n"
     ]
    }
   ],
   "source": [
    "# 2) Question:\n",
    "# Create a program that calculates the area of a rectangle. Take the length and\n",
    "# width as inputs from the user and store them in variables. Calculate and display the area\n",
    "\n",
    "# Solution:\n",
    "\n",
    "# Taking the length as input from the user\n",
    "input_length = float(input(\"Enter the length of the rectangle:\")) # Prompts the user to enter the length of the rectangle and converts it to Float\n",
    "\n",
    "# Taking the width as input from the user\n",
    "input_width = float(input(\"Enter the width of the rectangle:\"))  # Prompts the user to enter the width of the rectangle and converts it to Float\n",
    "\n",
    "# Calculating the area of the rectangle\n",
    "area_of_rectangle = input_length * input_width\n",
    "\n",
    "# Displaying the calculated area\n",
    "print(\"The area of the rectangle is:\", area_of_rectangle) # Print the calculated area of the rectangle"
   ]
  },
  {
   "cell_type": "code",
   "execution_count": 29,
   "id": "81fd7243-bf5c-4437-849b-ea8f4a93da95",
   "metadata": {},
   "outputs": [
    {
     "name": "stdin",
     "output_type": "stream",
     "text": [
      "Enter the temperature in Celsius: 100\n"
     ]
    },
    {
     "name": "stdout",
     "output_type": "stream",
     "text": [
      "The result after converting the temperature from Celsius to Fahrenheit is: 212.0\n"
     ]
    }
   ],
   "source": [
    "# 3) Question:\n",
    "# Write a Python program that converts temperatures from Celsius to Fahrenheit. Take the temperature in \n",
    "# Celsius as input, store it in a variable, convert it to Fahrenheit, and display the result\n",
    "\n",
    "# Solution:\n",
    "\n",
    "# Taking the temperature in Celsius as input from the user\n",
    "input_celsius = float(input(\"Enter the temperature in Celsius:\")) # Prompts the user to enter a temperature in Celsius and converts it to Float\n",
    "\n",
    "# Converting Celsius to Fahrenheit\n",
    "output_fahrenheit = (input_celsius * 9/5) + 32 # Calculates the equivalent temperature in Fahrenheit from the input temperature in Celsius\n",
    "\n",
    "# Displaying the converted temperature in Fahrenheit\n",
    "print(\"The result after converting the temperature from Celsius to Fahrenheit is:\", output_fahrenheit) # Print the converted temperature in Fahrenheit"
   ]
  },
  {
   "cell_type": "markdown",
   "id": "57c518c8-673f-4fed-ad84-5c040771b77b",
   "metadata": {},
   "source": [
    "**TOPIC: String Based Questions**"
   ]
  },
  {
   "cell_type": "code",
   "execution_count": 30,
   "id": "69d5c902-ee05-4b67-9a99-37d06d79d4eb",
   "metadata": {},
   "outputs": [
    {
     "name": "stdin",
     "output_type": "stream",
     "text": [
      "Enter a string: ravi\n"
     ]
    },
    {
     "name": "stdout",
     "output_type": "stream",
     "text": [
      "The length of the entered string is: 4\n"
     ]
    }
   ],
   "source": [
    "# 1) Question:\n",
    "# Write a Python program that takes a string as input and prints the length of the string.\n",
    "\n",
    "# Solution:\n",
    "\n",
    "# Taking a string as input from the user\n",
    "input_string = input(\"Enter a string:\") # Prompts the user to input a string\n",
    "\n",
    "# Calculating the length of the input string\n",
    "string_length = len(input_string) \n",
    "\n",
    "# Displaying the length of the string\n",
    "print(\"The length of the entered string is:\", string_length) # Print the length of the input string"
   ]
  },
  {
   "cell_type": "code",
   "execution_count": 31,
   "id": "30405184-a21e-42df-85fc-541b9af99eb4",
   "metadata": {},
   "outputs": [
    {
     "name": "stdin",
     "output_type": "stream",
     "text": [
      "Enter a sentence: h  jjjjllll; \n"
     ]
    },
    {
     "name": "stdout",
     "output_type": "stream",
     "text": [
      "Total number of vowels found in the input sentence: 0\n"
     ]
    }
   ],
   "source": [
    "# 2) Question:\n",
    "# Create a program that takes a sentence from the user and counts the number of vowels (a, e, i, o, u) in the string.\n",
    "\n",
    "# Solution:\n",
    "\n",
    "# Taking a string(sentence) as input from the user\n",
    "input_string = input(\"Enter a sentence:\") # Prompts the user to input a string(sentence)\n",
    "\n",
    "# Converting the entire string to lowercase\n",
    "modified_input_string = input_string.lower() # This step is essential for accurate vowel checking since it makes the comparison case-insensitive.\n",
    "\n",
    "# This list will be used to check for the presence of these vowels in the input sentence.\n",
    "vowels_list = [\"a\", \"e\", \"i\", \"o\", \"u\"] # Initialize vowels_list with lowercase vowels(strings) \"a\", \"e\", \"i\", \"o\", and \"u\".\n",
    "\n",
    "# This variable will be used to count the number of vowels found in the input sentence.\n",
    "count_vowels = 0 # Initialize count_vowels with zero\n",
    "\n",
    "# This for loop iterates through each vowel in the vowels_list list.\n",
    "for vowel in vowels_list:\n",
    "    index_of_vowel = modified_input_string.find(vowel)  # For each vowel, it uses the find() method to search for the current vowel in the input sentence.\n",
    "    # If the index_of_vowel is not -1, it means the vowel was found in the input sentence, and the count_vowel variable is incremented by 1.\n",
    "    if index_of_vowel != -1:  \n",
    "        count_vowels = count_vowels + 1\n",
    "\n",
    "# Displaying the total number of vowels found in the input sentence       \n",
    "print(\"Total number of vowels found in the input sentence:\", count_vowels) # Print the total number of vowels found in the input sentence"
   ]
  },
  {
   "cell_type": "code",
   "execution_count": 33,
   "id": "c57e9642-0961-4796-a344-bcf2c4ac62c3",
   "metadata": {},
   "outputs": [
    {
     "name": "stdin",
     "output_type": "stream",
     "text": [
      "Enter a string: raviiii\n"
     ]
    },
    {
     "name": "stdout",
     "output_type": "stream",
     "text": [
      "Reversed string: iiiivar\n"
     ]
    }
   ],
   "source": [
    "# 3) Question:\n",
    "# Given a string, reverse the order of characters using string slicing and print the reversed string\n",
    "\n",
    "# Solution:\n",
    "\n",
    "# Taking a string as input from the user\n",
    "input_string = input(\"Enter a string:\") # Prompts the user to input a string\n",
    "\n",
    "# Reversing the string using slicing\n",
    "reversed_string = input_string[::-1] # It extracts all characters from the string in reverse order\n",
    "\n",
    "# Displaying the reversed string\n",
    "print(\"Reversed string:\", reversed_string) # Print the reversed string"
   ]
  },
  {
   "cell_type": "code",
   "execution_count": 35,
   "id": "caefd88d-ac70-4994-8ef8-4357659a7708",
   "metadata": {},
   "outputs": [
    {
     "name": "stdin",
     "output_type": "stream",
     "text": [
      "Enter a string: ravi\n"
     ]
    },
    {
     "name": "stdout",
     "output_type": "stream",
     "text": [
      "It's not a palindrome\n"
     ]
    }
   ],
   "source": [
    "# 4) Question:\n",
    "#  Write a program that takes a string as input and checks if it is a palindrome (reads the same forwards and backwards).\n",
    "\n",
    "# Solution:\n",
    "\n",
    "# Taking a string as input from the user\n",
    "input_string = input(\"Enter a string:\") # Prompts the user to input a string\n",
    "\n",
    "# Removing all spaces from the input string and converting the string to lowercase\n",
    "modified_input_string = input_string.replace(\" \", \"\").lower()\n",
    "\n",
    "# Checking if the modified input string is equal to its reverse\n",
    "if modified_input_string == modified_input_string[::-1]:\n",
    "     print(\"It's a palindrome\")     # If the condition is met, the code prints \"It's a palindrome\". \n",
    "else:\n",
    "     print(\"It's not a palindrome\") # If the condition is not met, the code prints \"It's not a palindrome\". "
   ]
  },
  {
   "cell_type": "code",
   "execution_count": 37,
   "id": "c59e4041-8fec-42ce-9b4f-9845f0ff27c3",
   "metadata": {},
   "outputs": [
    {
     "name": "stdin",
     "output_type": "stream",
     "text": [
      "Enter a string: kkk kk\n"
     ]
    },
    {
     "name": "stdout",
     "output_type": "stream",
     "text": [
      "Modified string without spaces: kkkkk\n"
     ]
    }
   ],
   "source": [
    "# 5) Question:\n",
    "#  Create a program that takes a string as input and removes all the spaces from it. Print the modified string without spaces.\n",
    "\n",
    "# Solution:\n",
    "\n",
    "# Taking a string as input from the user\n",
    "input_string = input(\"Enter a string:\") # Prompts the user to input a string\n",
    "\n",
    "# Removing spaces from the input string\n",
    "modified_input_string = input_string.replace(\" \", \"\")\n",
    "\n",
    "# Displaying the modified string without spaces\n",
    "print(\"Modified string without spaces:\", modified_input_string) # print the modified string without spaces"
   ]
  },
  {
   "cell_type": "code",
   "execution_count": null,
   "id": "e796daa2-e1bb-49dc-a9f0-0790f8b4f6ae",
   "metadata": {},
   "outputs": [],
   "source": []
  }
 ],
 "metadata": {
  "kernelspec": {
   "display_name": "Python 3 (ipykernel)",
   "language": "python",
   "name": "python3"
  },
  "language_info": {
   "codemirror_mode": {
    "name": "ipython",
    "version": 3
   },
   "file_extension": ".py",
   "mimetype": "text/x-python",
   "name": "python",
   "nbconvert_exporter": "python",
   "pygments_lexer": "ipython3",
   "version": "3.10.8"
  }
 },
 "nbformat": 4,
 "nbformat_minor": 5
}
